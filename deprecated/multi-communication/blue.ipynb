{
 "cells": [
  {
   "cell_type": "code",
   "execution_count": 9,
   "metadata": {},
   "outputs": [
    {
     "name": "stdout",
     "output_type": "stream",
     "text": [
      "performing inquiry...\n"
     ]
    },
    {
     "ename": "OSError",
     "evalue": "[Errno 19] No such device",
     "output_type": "error",
     "traceback": [
      "\u001b[0;31m---------------------------------------------------------------------------\u001b[0m",
      "\u001b[0;31mOSError\u001b[0m                                   Traceback (most recent call last)",
      "\u001b[1;32m/home/ubuntu/mutli-communication/blue.ipynb Cell 1'\u001b[0m in \u001b[0;36m<cell line: 3>\u001b[0;34m()\u001b[0m\n\u001b[1;32m      <a href='vscode-notebook-cell://ssh-remote%2B10.185.94.119/home/ubuntu/mutli-communication/blue.ipynb#ch0000000vscode-remote?line=0'>1</a>\u001b[0m \u001b[39mimport\u001b[39;00m \u001b[39mbluetooth\u001b[39;00m\n\u001b[1;32m      <a href='vscode-notebook-cell://ssh-remote%2B10.185.94.119/home/ubuntu/mutli-communication/blue.ipynb#ch0000000vscode-remote?line=1'>2</a>\u001b[0m \u001b[39mprint\u001b[39m(\u001b[39m\"\u001b[39m\u001b[39mperforming inquiry...\u001b[39m\u001b[39m\"\u001b[39m)\n\u001b[0;32m----> <a href='vscode-notebook-cell://ssh-remote%2B10.185.94.119/home/ubuntu/mutli-communication/blue.ipynb#ch0000000vscode-remote?line=2'>3</a>\u001b[0m nearby_devices \u001b[39m=\u001b[39m bluetooth\u001b[39m.\u001b[39;49mdiscover_devices(lookup_names \u001b[39m=\u001b[39;49m \u001b[39mTrue\u001b[39;49;00m)\n\u001b[1;32m      <a href='vscode-notebook-cell://ssh-remote%2B10.185.94.119/home/ubuntu/mutli-communication/blue.ipynb#ch0000000vscode-remote?line=3'>4</a>\u001b[0m \u001b[39mprint\u001b[39m(\u001b[39m\"\u001b[39m\u001b[39mfound \u001b[39m\u001b[39m%d\u001b[39;00m\u001b[39m devices\u001b[39m\u001b[39m\"\u001b[39m \u001b[39m%\u001b[39m \u001b[39mlen\u001b[39m(nearby_devices))\n\u001b[1;32m      <a href='vscode-notebook-cell://ssh-remote%2B10.185.94.119/home/ubuntu/mutli-communication/blue.ipynb#ch0000000vscode-remote?line=4'>5</a>\u001b[0m \u001b[39mfor\u001b[39;00m addr, name \u001b[39min\u001b[39;00m nearby_devices:\n",
      "File \u001b[0;32m~/.local/lib/python3.8/site-packages/bluetooth/bluez.py:19\u001b[0m, in \u001b[0;36mdiscover_devices\u001b[0;34m(duration, flush_cache, lookup_names, lookup_class, device_id, iac)\u001b[0m\n\u001b[1;32m     16\u001b[0m \u001b[39mdef\u001b[39;00m \u001b[39mdiscover_devices\u001b[39m (duration\u001b[39m=\u001b[39m\u001b[39m8\u001b[39m, flush_cache\u001b[39m=\u001b[39m\u001b[39mTrue\u001b[39;00m, lookup_names\u001b[39m=\u001b[39m\u001b[39mFalse\u001b[39;00m,\n\u001b[1;32m     17\u001b[0m                       lookup_class\u001b[39m=\u001b[39m\u001b[39mFalse\u001b[39;00m, device_id\u001b[39m=\u001b[39m\u001b[39m-\u001b[39m\u001b[39m1\u001b[39m, iac\u001b[39m=\u001b[39mIAC_GIAC):\n\u001b[1;32m     18\u001b[0m     \u001b[39mif\u001b[39;00m device_id \u001b[39m==\u001b[39m \u001b[39m-\u001b[39m\u001b[39m1\u001b[39m:\n\u001b[0;32m---> 19\u001b[0m         device_id \u001b[39m=\u001b[39m _bt\u001b[39m.\u001b[39;49mhci_get_route()\n\u001b[1;32m     21\u001b[0m     sock \u001b[39m=\u001b[39m _gethcisock (device_id)\n\u001b[1;32m     22\u001b[0m     \u001b[39mtry\u001b[39;00m:\n",
      "\u001b[0;31mOSError\u001b[0m: [Errno 19] No such device"
     ]
    }
   ],
   "source": [
    "import bluetooth\n",
    "print(\"performing inquiry...\")\n",
    "nearby_devices = bluetooth.discover_devices(lookup_names = True)\n",
    "print(\"found %d devices\" % len(nearby_devices))\n",
    "for addr, name in nearby_devices:\n",
    "    print(\"  %s - %s\" % (addr, name))"
   ]
  },
  {
   "cell_type": "code",
   "execution_count": 10,
   "metadata": {},
   "outputs": [
    {
     "ename": "BluetoothError",
     "evalue": "[Errno 100] Network is down",
     "output_type": "error",
     "traceback": [
      "\u001b[0;31m---------------------------------------------------------------------------\u001b[0m",
      "\u001b[0;31merror\u001b[0m                                     Traceback (most recent call last)",
      "File \u001b[0;32m~/.local/lib/python3.8/site-packages/bluetooth/bluez.py:63\u001b[0m, in \u001b[0;36mread_local_bdaddr\u001b[0;34m()\u001b[0m\n\u001b[1;32m     61\u001b[0m hci_sock\u001b[39m.\u001b[39msetsockopt( _bt\u001b[39m.\u001b[39mSOL_HCI, _bt\u001b[39m.\u001b[39mHCI_FILTER, flt )\n\u001b[0;32m---> 63\u001b[0m _bt\u001b[39m.\u001b[39;49mhci_send_cmd(hci_sock, _bt\u001b[39m.\u001b[39;49mOGF_INFO_PARAM, _bt\u001b[39m.\u001b[39;49mOCF_READ_BD_ADDR )\n\u001b[1;32m     65\u001b[0m pkt \u001b[39m=\u001b[39m hci_sock\u001b[39m.\u001b[39mrecv(\u001b[39m255\u001b[39m)\n",
      "\u001b[0;31merror\u001b[0m: (100, 'Network is down')",
      "\nDuring handling of the above exception, another exception occurred:\n",
      "\u001b[0;31mBluetoothError\u001b[0m                            Traceback (most recent call last)",
      "\u001b[1;32m/home/ubuntu/mutli-communication/blue.ipynb Cell 2'\u001b[0m in \u001b[0;36m<cell line: 1>\u001b[0;34m()\u001b[0m\n\u001b[0;32m----> <a href='vscode-notebook-cell://ssh-remote%2B10.185.94.119/home/ubuntu/mutli-communication/blue.ipynb#ch0000001vscode-remote?line=0'>1</a>\u001b[0m \u001b[39mprint\u001b[39m(\u001b[39m\"\u001b[39m\u001b[39mlocal MAC\u001b[39m\u001b[39m\"\u001b[39m,bluetooth\u001b[39m.\u001b[39;49mread_local_bdaddr())\n",
      "File \u001b[0;32m~/.local/lib/python3.8/site-packages/bluetooth/bluez.py:78\u001b[0m, in \u001b[0;36mread_local_bdaddr\u001b[0;34m()\u001b[0m\n\u001b[1;32m     76\u001b[0m     \u001b[39mreturn\u001b[39;00m [bdaddr]\n\u001b[1;32m     77\u001b[0m \u001b[39mexcept\u001b[39;00m _bt\u001b[39m.\u001b[39merror \u001b[39mas\u001b[39;00m e:\n\u001b[0;32m---> 78\u001b[0m     \u001b[39mraise\u001b[39;00m BluetoothError(\u001b[39m*\u001b[39me\u001b[39m.\u001b[39margs)\n",
      "\u001b[0;31mBluetoothError\u001b[0m: [Errno 100] Network is down"
     ]
    }
   ],
   "source": [
    "print(\"local MAC\",bluetooth.read_local_bdaddr())"
   ]
  }
 ],
 "metadata": {
  "kernelspec": {
   "display_name": "Python 3.8.10 64-bit",
   "language": "python",
   "name": "python3"
  },
  "language_info": {
   "codemirror_mode": {
    "name": "ipython",
    "version": 3
   },
   "file_extension": ".py",
   "mimetype": "text/x-python",
   "name": "python",
   "nbconvert_exporter": "python",
   "pygments_lexer": "ipython3",
   "version": "3.8.10"
  },
  "orig_nbformat": 4,
  "vscode": {
   "interpreter": {
    "hash": "916dbcbb3f70747c44a77c7bcd40155683ae19c65e1c03b4aa3499c5328201f1"
   }
  }
 },
 "nbformat": 4,
 "nbformat_minor": 2
}
